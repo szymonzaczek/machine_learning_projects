{
 "cells": [
  {
   "cell_type": "code",
   "execution_count": 1,
   "metadata": {},
   "outputs": [
    {
     "data": {
      "application/vnd.jupyter.widget-view+json": {
       "model_id": "7adc8f34b56f450ab807929ee0d5eb4d",
       "version_major": 2,
       "version_minor": 0
      },
      "text/plain": [
       "_ColormakerRegistry()"
      ]
     },
     "metadata": {},
     "output_type": "display_data"
    }
   ],
   "source": [
    "# Performing PCA and k-means clustering on the molecular dynamics trajectories, along with the visualisation of key interatomic distance in the discrete states\n",
    "# Imports\n",
    "import pyemma\n",
    "import re\n",
    "import os\n",
    "import string\n",
    "import matplotlib.pyplot as plt\n",
    "import numpy as np\n",
    "import pyemma.msm as msm\n",
    "import pyemma.plots as mplt\n",
    "import pyemma.coordinates as coor\n",
    "from matplotlib.axes import Axes\n",
    "import seaborn as sns\n",
    "import molpx"
   ]
  },
  {
   "cell_type": "code",
   "execution_count": 2,
   "metadata": {},
   "outputs": [],
   "source": [
    "# Changing directory to where the required files are located\n",
    "os.chdir('E:\\\\google_disk\\\\doktorat\\\\programming\\\\pyemma_pca\\\\')"
   ]
  },
  {
   "cell_type": "code",
   "execution_count": 3,
   "metadata": {},
   "outputs": [],
   "source": [
    "# Function for fitting and transforming trajectory using either tica or pca and clustering the resultant data\n",
    "def project_and_cluster(trajfiles, featurizer, sparsify=False, tica=False, lag=1, scale=True, var_cutoff=0.95, ncluster=4):\n",
    "    X = coor.load(trajfiles,featurizer)\n",
    "    if sparsify:\n",
    "        X = remove_constant(X)\n",
    "    if tica:\n",
    "        trans_obj = coor.tica(X, dim=-1, kinetic_map=False)\n",
    "    else:\n",
    "        trans_obj = coor.pca(X, dim=-1, var_cutoff=var_cutoff)\n",
    "    Y = trans_obj.get_output()\n",
    "    if scale:\n",
    "        for y in Y:\n",
    "            y *= trans_obj.eigenvalues[:trans_obj.dimension()]\n",
    "    cl_obj = coor.cluster_kmeans(Y, k=ncluster, max_iter=50, fixed_seed=True)\n",
    "    return trans_obj, Y, cl_obj"
   ]
  },
  {
   "cell_type": "code",
   "execution_count": 4,
   "metadata": {},
   "outputs": [],
   "source": [
    "# Function for making data sparse, if threshold is met\n",
    "def remove_constant(X, threshold=0.001):\n",
    "    if isinstance(X, np.ndarray):\n",
    "        X = [X]\n",
    "        Ds = [np.max(x, axis=0) - np.min(x, axis=0) for x in X]\n",
    "        D = np.min(np.array(Ds), axis=0)\n",
    "        Ivar = np.where(D > 0.001)[0]\n",
    "        Y = [x[:, Ivar] for x in X]\n",
    "        if len(Y) == 1:\n",
    "            Y = Y[0]\n",
    "        return Y"
   ]
  },
  {
   "cell_type": "code",
   "execution_count": 5,
   "metadata": {},
   "outputs": [],
   "source": [
    "# Loading topology and parameter files\n",
    "top = 'topology_4zaf.prmtop'\n",
    "trajs = 'traj_short.nc'"
   ]
  },
  {
   "cell_type": "code",
   "execution_count": 6,
   "metadata": {},
   "outputs": [],
   "source": [
    "# Choosing feature - herein I chose Ca carbon atoms in the protein backbone\n",
    "feat = coor.featurizer(top)\n",
    "sele = feat.select_Ca()\n",
    "feat.add_selection(indexes=sele)"
   ]
  },
  {
   "cell_type": "code",
   "execution_count": 7,
   "metadata": {},
   "outputs": [],
   "source": [
    "# Defining the source for trajectectory along with the features to be used for PCA\n",
    "source = pyemma.coordinates.source(trajs,feat)"
   ]
  },
  {
   "cell_type": "code",
   "execution_count": 8,
   "metadata": {},
   "outputs": [
    {
     "data": {
      "application/vnd.jupyter.widget-view+json": {
       "model_id": "",
       "version_major": 2,
       "version_minor": 0
      },
      "text/plain": [
       "HBox(children=(IntProgress(value=0, description='initialize kmeans++ centers', layout=Layout(flex='2'), max=4,…"
      ]
     },
     "metadata": {},
     "output_type": "display_data"
    },
    {
     "data": {
      "application/vnd.jupyter.widget-view+json": {
       "model_id": "",
       "version_major": 2,
       "version_minor": 0
      },
      "text/plain": [
       "HBox(children=(IntProgress(value=0, description='kmeans iterations', layout=Layout(flex='2'), max=50, style=Pr…"
      ]
     },
     "metadata": {},
     "output_type": "display_data"
    },
    {
     "name": "stdout",
     "output_type": "stream",
     "text": [
      "\r"
     ]
    }
   ],
   "source": [
    "# PCA transformation, along with k-means clustering of the results\n",
    "pca_vc0_75, pca_Y_vc0_75, pca_cl_vc0_75 = project_and_cluster(trajs, feat, sparsify=True, tica=False)"
   ]
  },
  {
   "cell_type": "code",
   "execution_count": 9,
   "metadata": {},
   "outputs": [
    {
     "name": "stdout",
     "output_type": "stream",
     "text": [
      "Projected data shape:\n",
      "Number of trajectory frames: 500\n",
      "Number of dimensions after PCA transformation: 118\n"
     ]
    }
   ],
   "source": [
    "# Printing what is the shape of the data: first \n",
    "Y=pca_Y_vc0_75[0]\n",
    "print(f'Projected data shape:\\nNumber of trajectory frames: {Y.shape[0]}\\nNumber of dimensions after PCA transformation: {Y.shape[1]}')"
   ]
  },
  {
   "cell_type": "code",
   "execution_count": 10,
   "metadata": {},
   "outputs": [],
   "source": [
    "# Defining clusters as a trajectory\n",
    "dtrajs_pca = pca_cl_vc0_75.dtrajs"
   ]
  },
  {
   "cell_type": "code",
   "execution_count": 11,
   "metadata": {},
   "outputs": [],
   "source": [
    "# Defining coordinates of clusters in the first two principal component space (mapping clusters onto PCA)\n",
    "cc_xpca = pca_cl_vc0_75.clustercenters[:,0]\n",
    "cc_ypca = pca_cl_vc0_75.clustercenters[:,1]"
   ]
  },
  {
   "cell_type": "code",
   "execution_count": 12,
   "metadata": {},
   "outputs": [],
   "source": [
    "# Defining molpx path - it enables saving clusters as trajectories; it might take a few minutes\n",
    "paths_dict, idata = molpx.generate.projection_paths(trajs,\n",
    "                                                    top,\n",
    "                                                    Y,\n",
    "                                                    n_points=100,\n",
    "                                                    n_geom_samples=100,\n",
    "                                                    n_projs=2,\n",
    "                                                    proj_dim = 2,\n",
    "                                                    verbose=False,\n",
    "                                        )"
   ]
  },
  {
   "cell_type": "code",
   "execution_count": 13,
   "metadata": {},
   "outputs": [],
   "source": [
    "# Running molpx\n",
    "coord = 0\n",
    "path_type = 'min_disp'\n",
    "igeom = paths_dict[coord][path_type][\"geom\"]\n",
    "ipath = paths_dict[coord][path_type][\"proj\"]\n",
    "np.save('paths_pca.dict.npy', paths_dict)\n",
    "igeom.save_pdb('pca_ca.pdb')\n",
    "np.save('ipath.txt', ipath)\n",
    "proj_idxs = [0,1]"
   ]
  },
  {
   "cell_type": "code",
   "execution_count": 14,
   "metadata": {},
   "outputs": [
    {
     "name": "stdout",
     "output_type": "stream",
     "text": [
      "11-10-19 15:05:52 pyemma.coordinates.data.featurization.featurizer.MDFeaturizer[16] WARNING  The 1D arrays input for add_distances() have been sorted, and index duplicates have been eliminated.\n",
      "Check the output of describe() to see the actual order of the features\n"
     ]
    }
   ],
   "source": [
    "# Defining which distance between two atoms in the obtained clusters should be considered\n",
    "feat_cat=pyemma.coordinates.featurizer(top)\n",
    "at1=feat_cat.select(\"(name C4)\")[0]\n",
    "at2=feat_cat.select(\"(name N22)\")[0]\n",
    "dist=[at1,at2]\n",
    "feat_cat.add_distances(dist)\n",
    "D_dist=pyemma.coordinates.load(trajs,features=feat_cat)"
   ]
  },
  {
   "cell_type": "code",
   "execution_count": 15,
   "metadata": {},
   "outputs": [],
   "source": [
    "# Finding the actual distances in 4 most relevant clusters\n",
    "nclusters=4\n",
    "clusters_dist={'clusters':[],'valors':[]}\n",
    "for disc_traj in range(0,len(dtrajs_pca[0])):\n",
    "    clusters_dist[\"clusters\"].append(dtrajs_pca[0][disc_traj])\n",
    "    clusters_dist[\"valors\"].append(D_dist[disc_traj][0])   \n",
    "dmeans_dist=[]\n",
    "valors_dist=[]\n",
    "for cluster in range(0,nclusters):\n",
    "    valor=[]\n",
    "    for element in range(0,len(clusters_dist[\"clusters\"])):\n",
    "        if clusters_dist[\"clusters\"][element] == cluster:\n",
    "            valor.append(clusters_dist[\"valors\"][element])\n",
    "    valors_dist.append(valor)"
   ]
  },
  {
   "cell_type": "code",
   "execution_count": 16,
   "metadata": {},
   "outputs": [],
   "source": [
    "# Appending distance and standard deviation to individual list, containing only relevant data\n",
    "dmeans=[]\n",
    "dstd=[]\n",
    "for valor in valors_dist:\n",
    "    dmeans.append(np.mean(valor)*10)\n",
    "    dstd.append(np.std(valor)*10)"
   ]
  },
  {
   "cell_type": "code",
   "execution_count": 17,
   "metadata": {},
   "outputs": [
    {
     "data": {
      "image/png": "[encoded data removed]",
      "text/plain": [
       "<Figure size 432x561.6 with 1 Axes>"
      ]
     },
     "metadata": {
      "needs_background": "light"
     },
     "output_type": "display_data"
    }
   ],
   "source": [
    "# Plotting results of PCA along with the distance between considered atoms in the localized clusters\n",
    "plt.figure(figsize=(6,7.8))\n",
    "plt.title(r'C$_\\alpha$ atoms', fontsize=14)\n",
    "plt.xlabel('PC1', fontsize=14)\n",
    "plt.ylabel(\"PC2\", fontsize=14)\n",
    "plt.xticks(fontsize=12)\n",
    "plt.yticks(fontsize=12)\n",
    "plt.xlim(xmin=-25.0)\n",
    "plt.xlim(xmax=25.0)\n",
    "plt.ylim(ymin=-5)\n",
    "plt.ylim(ymax=5) # adjust the max leaving min unchanged\n",
    "for i in range(nclusters):\n",
    "    plt.annotate(\"%3.1f\"%(dmeans[i])+\"+/-\"+\"%3.1f\"%(dstd[i]), xy=(cc_xpca[i],cc_ypca[i]),fontsize=\"12\")\n",
    "ax = sns.kdeplot(Y[:,0],Y[:,1],shade=True,shade_lowest=False,cmap=\"Reds\",n_levels=40)\n",
    "ax.xaxis.set_major_locator(plt.MultipleLocator(12.5))"
   ]
  }
 ],
 "metadata": {
  "kernelspec": {
   "display_name": "Python 3",
   "language": "python",
   "name": "python3"
  },
  "language_info": {
   "codemirror_mode": {
    "name": "ipython",
    "version": 3
   },
   "file_extension": ".py",
   "mimetype": "text/x-python",
   "name": "python",
   "nbconvert_exporter": "python",
   "pygments_lexer": "ipython3",
   "version": "3.7.3"
  }
 },
 "nbformat": 4,
 "nbformat_minor": 2
}
